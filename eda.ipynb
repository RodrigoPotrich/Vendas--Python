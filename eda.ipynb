{
 "cells": [
  {
   "cell_type": "code",
   "execution_count": 25,
   "id": "a437c698",
   "metadata": {},
   "outputs": [],
   "source": [
    "import pandas as pd\n",
    "import seaborn as sns\n",
    "import matplotlib.pyplot as plt"
   ]
  },
  {
   "cell_type": "code",
   "execution_count": 26,
   "id": "7f354ce6",
   "metadata": {},
   "outputs": [],
   "source": [
    "data=pd.read_excel(r\"C:\\Users\\Potrich\\Downloads\\file.xlsx\")"
   ]
  },
  {
   "cell_type": "code",
   "execution_count": 27,
   "id": "86545e6c",
   "metadata": {},
   "outputs": [
    {
     "data": {
      "text/html": [
       "<div>\n",
       "<style scoped>\n",
       "    .dataframe tbody tr th:only-of-type {\n",
       "        vertical-align: middle;\n",
       "    }\n",
       "\n",
       "    .dataframe tbody tr th {\n",
       "        vertical-align: top;\n",
       "    }\n",
       "\n",
       "    .dataframe thead th {\n",
       "        text-align: right;\n",
       "    }\n",
       "</style>\n",
       "<table border=\"1\" class=\"dataframe\">\n",
       "  <thead>\n",
       "    <tr style=\"text-align: right;\">\n",
       "      <th></th>\n",
       "      <th>Unnamed: 0</th>\n",
       "      <th>Unnamed: 1</th>\n",
       "      <th>Unnamed: 2</th>\n",
       "      <th>Unnamed: 3</th>\n",
       "      <th>Unnamed: 4</th>\n",
       "      <th>Unnamed: 5</th>\n",
       "      <th>Unnamed: 6</th>\n",
       "      <th>Unnamed: 7</th>\n",
       "      <th>Unnamed: 8</th>\n",
       "      <th>Unnamed: 9</th>\n",
       "    </tr>\n",
       "  </thead>\n",
       "  <tbody>\n",
       "    <tr>\n",
       "      <th>0</th>\n",
       "      <td>NaN</td>\n",
       "      <td>Order ID</td>\n",
       "      <td>Date</td>\n",
       "      <td>Product</td>\n",
       "      <td>Price</td>\n",
       "      <td>Quantity</td>\n",
       "      <td>Purchase Type</td>\n",
       "      <td>Payment Method</td>\n",
       "      <td>Manager</td>\n",
       "      <td>City</td>\n",
       "    </tr>\n",
       "    <tr>\n",
       "      <th>1</th>\n",
       "      <td>NaN</td>\n",
       "      <td>10452</td>\n",
       "      <td>2022-11-07 00:00:00</td>\n",
       "      <td>Fries</td>\n",
       "      <td>3.49</td>\n",
       "      <td>573.065903</td>\n",
       "      <td>Online</td>\n",
       "      <td>Gift Card</td>\n",
       "      <td>Tom      Jackson</td>\n",
       "      <td>London</td>\n",
       "    </tr>\n",
       "    <tr>\n",
       "      <th>2</th>\n",
       "      <td>NaN</td>\n",
       "      <td>10453</td>\n",
       "      <td>2022-11-07 00:00:00</td>\n",
       "      <td>Beverages</td>\n",
       "      <td>2.95</td>\n",
       "      <td>745.762712</td>\n",
       "      <td>Online</td>\n",
       "      <td>Gift Card</td>\n",
       "      <td>Pablo Perez</td>\n",
       "      <td>Madrid</td>\n",
       "    </tr>\n",
       "    <tr>\n",
       "      <th>3</th>\n",
       "      <td>NaN</td>\n",
       "      <td>10454</td>\n",
       "      <td>2022-11-07 00:00:00</td>\n",
       "      <td>Sides &amp; Other</td>\n",
       "      <td>4.99</td>\n",
       "      <td>200.400802</td>\n",
       "      <td>In-store</td>\n",
       "      <td>Gift Card</td>\n",
       "      <td>Joao    Silva</td>\n",
       "      <td>Lisbon</td>\n",
       "    </tr>\n",
       "    <tr>\n",
       "      <th>4</th>\n",
       "      <td>NaN</td>\n",
       "      <td>10455</td>\n",
       "      <td>2022-11-08 00:00:00</td>\n",
       "      <td>Burgers</td>\n",
       "      <td>12.99</td>\n",
       "      <td>569.668976</td>\n",
       "      <td>In-store</td>\n",
       "      <td>Credit Card</td>\n",
       "      <td>Walter Muller</td>\n",
       "      <td>Berlin</td>\n",
       "    </tr>\n",
       "    <tr>\n",
       "      <th>...</th>\n",
       "      <td>...</td>\n",
       "      <td>...</td>\n",
       "      <td>...</td>\n",
       "      <td>...</td>\n",
       "      <td>...</td>\n",
       "      <td>...</td>\n",
       "      <td>...</td>\n",
       "      <td>...</td>\n",
       "      <td>...</td>\n",
       "      <td>...</td>\n",
       "    </tr>\n",
       "    <tr>\n",
       "      <th>250</th>\n",
       "      <td>NaN</td>\n",
       "      <td>10709</td>\n",
       "      <td>2022-12-28 00:00:00</td>\n",
       "      <td>Sides &amp; Other</td>\n",
       "      <td>4.99</td>\n",
       "      <td>200.400802</td>\n",
       "      <td>Drive-thru</td>\n",
       "      <td>Gift Card</td>\n",
       "      <td>Walter Muller</td>\n",
       "      <td>Berlin</td>\n",
       "    </tr>\n",
       "    <tr>\n",
       "      <th>251</th>\n",
       "      <td>NaN</td>\n",
       "      <td>10710</td>\n",
       "      <td>2022-12-29 00:00:00</td>\n",
       "      <td>Burgers</td>\n",
       "      <td>12.99</td>\n",
       "      <td>754.426482</td>\n",
       "      <td>Drive-thru</td>\n",
       "      <td>Gift Card</td>\n",
       "      <td>Walter Muller</td>\n",
       "      <td>Berlin</td>\n",
       "    </tr>\n",
       "    <tr>\n",
       "      <th>252</th>\n",
       "      <td>NaN</td>\n",
       "      <td>10711</td>\n",
       "      <td>2022-12-29 00:00:00</td>\n",
       "      <td>Chicken Sandwiches</td>\n",
       "      <td>9.95</td>\n",
       "      <td>281.407035</td>\n",
       "      <td>Drive-thru</td>\n",
       "      <td>Gift Card</td>\n",
       "      <td>Walter Muller</td>\n",
       "      <td>Berlin</td>\n",
       "    </tr>\n",
       "    <tr>\n",
       "      <th>253</th>\n",
       "      <td>NaN</td>\n",
       "      <td>10712</td>\n",
       "      <td>2022-12-29 00:00:00</td>\n",
       "      <td>Fries</td>\n",
       "      <td>3.49</td>\n",
       "      <td>630.372493</td>\n",
       "      <td>Drive-thru</td>\n",
       "      <td>Gift Card</td>\n",
       "      <td>Walter Muller</td>\n",
       "      <td>Berlin</td>\n",
       "    </tr>\n",
       "    <tr>\n",
       "      <th>254</th>\n",
       "      <td>NaN</td>\n",
       "      <td>10713</td>\n",
       "      <td>2022-12-29 00:00:00</td>\n",
       "      <td>Beverages</td>\n",
       "      <td>2.95</td>\n",
       "      <td>677.966102</td>\n",
       "      <td>Drive-thru</td>\n",
       "      <td>Gift Card</td>\n",
       "      <td>Walter Muller</td>\n",
       "      <td>Berlin</td>\n",
       "    </tr>\n",
       "  </tbody>\n",
       "</table>\n",
       "<p>255 rows × 10 columns</p>\n",
       "</div>"
      ],
      "text/plain": [
       "     Unnamed: 0 Unnamed: 1           Unnamed: 2          Unnamed: 3  \\\n",
       "0           NaN   Order ID                 Date             Product   \n",
       "1           NaN      10452  2022-11-07 00:00:00               Fries   \n",
       "2           NaN      10453  2022-11-07 00:00:00           Beverages   \n",
       "3           NaN      10454  2022-11-07 00:00:00       Sides & Other   \n",
       "4           NaN      10455  2022-11-08 00:00:00             Burgers   \n",
       "..          ...        ...                  ...                 ...   \n",
       "250         NaN      10709  2022-12-28 00:00:00       Sides & Other   \n",
       "251         NaN      10710  2022-12-29 00:00:00             Burgers   \n",
       "252         NaN      10711  2022-12-29 00:00:00  Chicken Sandwiches   \n",
       "253         NaN      10712  2022-12-29 00:00:00               Fries   \n",
       "254         NaN      10713  2022-12-29 00:00:00           Beverages   \n",
       "\n",
       "    Unnamed: 4  Unnamed: 5     Unnamed: 6      Unnamed: 7          Unnamed: 8  \\\n",
       "0        Price    Quantity  Purchase Type  Payment Method             Manager   \n",
       "1         3.49  573.065903        Online        Gift Card    Tom      Jackson   \n",
       "2         2.95  745.762712        Online        Gift Card         Pablo Perez   \n",
       "3         4.99  200.400802      In-store        Gift Card       Joao    Silva   \n",
       "4        12.99  569.668976      In-store      Credit Card       Walter Muller   \n",
       "..         ...         ...            ...             ...                 ...   \n",
       "250       4.99  200.400802    Drive-thru        Gift Card       Walter Muller   \n",
       "251      12.99  754.426482    Drive-thru        Gift Card       Walter Muller   \n",
       "252       9.95  281.407035    Drive-thru        Gift Card       Walter Muller   \n",
       "253       3.49  630.372493    Drive-thru        Gift Card       Walter Muller   \n",
       "254       2.95  677.966102    Drive-thru        Gift Card       Walter Muller   \n",
       "\n",
       "    Unnamed: 9  \n",
       "0         City  \n",
       "1       London  \n",
       "2       Madrid  \n",
       "3       Lisbon  \n",
       "4       Berlin  \n",
       "..         ...  \n",
       "250     Berlin  \n",
       "251     Berlin  \n",
       "252     Berlin  \n",
       "253     Berlin  \n",
       "254     Berlin  \n",
       "\n",
       "[255 rows x 10 columns]"
      ]
     },
     "execution_count": 27,
     "metadata": {},
     "output_type": "execute_result"
    }
   ],
   "source": [
    "data"
   ]
  },
  {
   "cell_type": "code",
   "execution_count": 28,
   "id": "7ede88e5",
   "metadata": {},
   "outputs": [],
   "source": [
    "#deletar a 1 coluna que nao tinha nenhum valor\n",
    "data.drop(columns='Unnamed: 0', inplace=True)"
   ]
  },
  {
   "cell_type": "code",
   "execution_count": 29,
   "id": "6196a2bf",
   "metadata": {},
   "outputs": [
    {
     "data": {
      "text/plain": [
       "Unnamed: 1          Order ID\n",
       "Unnamed: 2              Date\n",
       "Unnamed: 3           Product\n",
       "Unnamed: 4             Price\n",
       "Unnamed: 5          Quantity\n",
       "Unnamed: 6     Purchase Type\n",
       "Unnamed: 7    Payment Method\n",
       "Unnamed: 8           Manager\n",
       "Unnamed: 9              City\n",
       "Name: 0, dtype: object"
      ]
     },
     "execution_count": 29,
     "metadata": {},
     "output_type": "execute_result"
    }
   ],
   "source": [
    "#mostrar a primeira linha\n",
    "data.loc[0]"
   ]
  },
  {
   "cell_type": "code",
   "execution_count": 30,
   "id": "5ffc1edb",
   "metadata": {},
   "outputs": [],
   "source": [
    "#colocar a primeira linha como nome da coluna\n",
    "data.columns= data.loc[0]"
   ]
  },
  {
   "cell_type": "code",
   "execution_count": 31,
   "id": "16d6ba0a",
   "metadata": {},
   "outputs": [
    {
     "data": {
      "text/html": [
       "<div>\n",
       "<style scoped>\n",
       "    .dataframe tbody tr th:only-of-type {\n",
       "        vertical-align: middle;\n",
       "    }\n",
       "\n",
       "    .dataframe tbody tr th {\n",
       "        vertical-align: top;\n",
       "    }\n",
       "\n",
       "    .dataframe thead th {\n",
       "        text-align: right;\n",
       "    }\n",
       "</style>\n",
       "<table border=\"1\" class=\"dataframe\">\n",
       "  <thead>\n",
       "    <tr style=\"text-align: right;\">\n",
       "      <th></th>\n",
       "      <th>Order ID</th>\n",
       "      <th>Date</th>\n",
       "      <th>Product</th>\n",
       "      <th>Price</th>\n",
       "      <th>Quantity</th>\n",
       "      <th>Purchase Type</th>\n",
       "      <th>Payment Method</th>\n",
       "      <th>Manager</th>\n",
       "      <th>City</th>\n",
       "    </tr>\n",
       "  </thead>\n",
       "  <tbody>\n",
       "    <tr>\n",
       "      <th>0</th>\n",
       "      <td>Order ID</td>\n",
       "      <td>Date</td>\n",
       "      <td>Product</td>\n",
       "      <td>Price</td>\n",
       "      <td>Quantity</td>\n",
       "      <td>Purchase Type</td>\n",
       "      <td>Payment Method</td>\n",
       "      <td>Manager</td>\n",
       "      <td>City</td>\n",
       "    </tr>\n",
       "    <tr>\n",
       "      <th>1</th>\n",
       "      <td>10452</td>\n",
       "      <td>2022-11-07 00:00:00</td>\n",
       "      <td>Fries</td>\n",
       "      <td>3.49</td>\n",
       "      <td>573.065903</td>\n",
       "      <td>Online</td>\n",
       "      <td>Gift Card</td>\n",
       "      <td>Tom      Jackson</td>\n",
       "      <td>London</td>\n",
       "    </tr>\n",
       "    <tr>\n",
       "      <th>2</th>\n",
       "      <td>10453</td>\n",
       "      <td>2022-11-07 00:00:00</td>\n",
       "      <td>Beverages</td>\n",
       "      <td>2.95</td>\n",
       "      <td>745.762712</td>\n",
       "      <td>Online</td>\n",
       "      <td>Gift Card</td>\n",
       "      <td>Pablo Perez</td>\n",
       "      <td>Madrid</td>\n",
       "    </tr>\n",
       "    <tr>\n",
       "      <th>3</th>\n",
       "      <td>10454</td>\n",
       "      <td>2022-11-07 00:00:00</td>\n",
       "      <td>Sides &amp; Other</td>\n",
       "      <td>4.99</td>\n",
       "      <td>200.400802</td>\n",
       "      <td>In-store</td>\n",
       "      <td>Gift Card</td>\n",
       "      <td>Joao    Silva</td>\n",
       "      <td>Lisbon</td>\n",
       "    </tr>\n",
       "    <tr>\n",
       "      <th>4</th>\n",
       "      <td>10455</td>\n",
       "      <td>2022-11-08 00:00:00</td>\n",
       "      <td>Burgers</td>\n",
       "      <td>12.99</td>\n",
       "      <td>569.668976</td>\n",
       "      <td>In-store</td>\n",
       "      <td>Credit Card</td>\n",
       "      <td>Walter Muller</td>\n",
       "      <td>Berlin</td>\n",
       "    </tr>\n",
       "    <tr>\n",
       "      <th>...</th>\n",
       "      <td>...</td>\n",
       "      <td>...</td>\n",
       "      <td>...</td>\n",
       "      <td>...</td>\n",
       "      <td>...</td>\n",
       "      <td>...</td>\n",
       "      <td>...</td>\n",
       "      <td>...</td>\n",
       "      <td>...</td>\n",
       "    </tr>\n",
       "    <tr>\n",
       "      <th>250</th>\n",
       "      <td>10709</td>\n",
       "      <td>2022-12-28 00:00:00</td>\n",
       "      <td>Sides &amp; Other</td>\n",
       "      <td>4.99</td>\n",
       "      <td>200.400802</td>\n",
       "      <td>Drive-thru</td>\n",
       "      <td>Gift Card</td>\n",
       "      <td>Walter Muller</td>\n",
       "      <td>Berlin</td>\n",
       "    </tr>\n",
       "    <tr>\n",
       "      <th>251</th>\n",
       "      <td>10710</td>\n",
       "      <td>2022-12-29 00:00:00</td>\n",
       "      <td>Burgers</td>\n",
       "      <td>12.99</td>\n",
       "      <td>754.426482</td>\n",
       "      <td>Drive-thru</td>\n",
       "      <td>Gift Card</td>\n",
       "      <td>Walter Muller</td>\n",
       "      <td>Berlin</td>\n",
       "    </tr>\n",
       "    <tr>\n",
       "      <th>252</th>\n",
       "      <td>10711</td>\n",
       "      <td>2022-12-29 00:00:00</td>\n",
       "      <td>Chicken Sandwiches</td>\n",
       "      <td>9.95</td>\n",
       "      <td>281.407035</td>\n",
       "      <td>Drive-thru</td>\n",
       "      <td>Gift Card</td>\n",
       "      <td>Walter Muller</td>\n",
       "      <td>Berlin</td>\n",
       "    </tr>\n",
       "    <tr>\n",
       "      <th>253</th>\n",
       "      <td>10712</td>\n",
       "      <td>2022-12-29 00:00:00</td>\n",
       "      <td>Fries</td>\n",
       "      <td>3.49</td>\n",
       "      <td>630.372493</td>\n",
       "      <td>Drive-thru</td>\n",
       "      <td>Gift Card</td>\n",
       "      <td>Walter Muller</td>\n",
       "      <td>Berlin</td>\n",
       "    </tr>\n",
       "    <tr>\n",
       "      <th>254</th>\n",
       "      <td>10713</td>\n",
       "      <td>2022-12-29 00:00:00</td>\n",
       "      <td>Beverages</td>\n",
       "      <td>2.95</td>\n",
       "      <td>677.966102</td>\n",
       "      <td>Drive-thru</td>\n",
       "      <td>Gift Card</td>\n",
       "      <td>Walter Muller</td>\n",
       "      <td>Berlin</td>\n",
       "    </tr>\n",
       "  </tbody>\n",
       "</table>\n",
       "<p>255 rows × 9 columns</p>\n",
       "</div>"
      ],
      "text/plain": [
       "0    Order ID                 Date             Product  Price    Quantity  \\\n",
       "0    Order ID                 Date             Product  Price    Quantity   \n",
       "1       10452  2022-11-07 00:00:00               Fries   3.49  573.065903   \n",
       "2       10453  2022-11-07 00:00:00           Beverages   2.95  745.762712   \n",
       "3       10454  2022-11-07 00:00:00       Sides & Other   4.99  200.400802   \n",
       "4       10455  2022-11-08 00:00:00             Burgers  12.99  569.668976   \n",
       "..        ...                  ...                 ...    ...         ...   \n",
       "250     10709  2022-12-28 00:00:00       Sides & Other   4.99  200.400802   \n",
       "251     10710  2022-12-29 00:00:00             Burgers  12.99  754.426482   \n",
       "252     10711  2022-12-29 00:00:00  Chicken Sandwiches   9.95  281.407035   \n",
       "253     10712  2022-12-29 00:00:00               Fries   3.49  630.372493   \n",
       "254     10713  2022-12-29 00:00:00           Beverages   2.95  677.966102   \n",
       "\n",
       "0    Purchase Type  Payment Method             Manager    City  \n",
       "0    Purchase Type  Payment Method             Manager    City  \n",
       "1          Online        Gift Card    Tom      Jackson  London  \n",
       "2          Online        Gift Card         Pablo Perez  Madrid  \n",
       "3        In-store        Gift Card       Joao    Silva  Lisbon  \n",
       "4        In-store      Credit Card       Walter Muller  Berlin  \n",
       "..             ...             ...                 ...     ...  \n",
       "250    Drive-thru        Gift Card       Walter Muller  Berlin  \n",
       "251    Drive-thru        Gift Card       Walter Muller  Berlin  \n",
       "252    Drive-thru        Gift Card       Walter Muller  Berlin  \n",
       "253    Drive-thru        Gift Card       Walter Muller  Berlin  \n",
       "254    Drive-thru        Gift Card       Walter Muller  Berlin  \n",
       "\n",
       "[255 rows x 9 columns]"
      ]
     },
     "execution_count": 31,
     "metadata": {},
     "output_type": "execute_result"
    }
   ],
   "source": [
    "data"
   ]
  },
  {
   "cell_type": "code",
   "execution_count": 32,
   "id": "8d2714d1",
   "metadata": {},
   "outputs": [],
   "source": [
    "data.drop(0,inplace=True)"
   ]
  },
  {
   "cell_type": "code",
   "execution_count": 33,
   "id": "daf8a891",
   "metadata": {},
   "outputs": [
    {
     "name": "stdout",
     "output_type": "stream",
     "text": [
      "<class 'pandas.core.frame.DataFrame'>\n",
      "RangeIndex: 254 entries, 1 to 254\n",
      "Data columns (total 9 columns):\n",
      " #   Column          Non-Null Count  Dtype \n",
      "---  ------          --------------  ----- \n",
      " 0   Order ID        254 non-null    object\n",
      " 1   Date            254 non-null    object\n",
      " 2   Product         254 non-null    object\n",
      " 3   Price           254 non-null    object\n",
      " 4   Quantity        254 non-null    object\n",
      " 5   Purchase Type   254 non-null    object\n",
      " 6   Payment Method  254 non-null    object\n",
      " 7   Manager         254 non-null    object\n",
      " 8   City            254 non-null    object\n",
      "dtypes: object(9)\n",
      "memory usage: 18.0+ KB\n"
     ]
    }
   ],
   "source": [
    "data.info()"
   ]
  },
  {
   "cell_type": "code",
   "execution_count": 34,
   "id": "a835ca89",
   "metadata": {},
   "outputs": [
    {
     "data": {
      "text/plain": [
       "1        Tom      Jackson\n",
       "2             Pablo Perez\n",
       "3           Joao    Silva\n",
       "4           Walter Muller\n",
       "5           Walter Muller\n",
       "              ...        \n",
       "250         Walter Muller\n",
       "251         Walter Muller\n",
       "252         Walter Muller\n",
       "253         Walter Muller\n",
       "254         Walter Muller\n",
       "Name: Manager, Length: 254, dtype: object"
      ]
     },
     "execution_count": 34,
     "metadata": {},
     "output_type": "execute_result"
    }
   ],
   "source": [
    "#tem espaços\n",
    "data['Manager']"
   ]
  },
  {
   "cell_type": "code",
   "execution_count": 35,
   "id": "984a2636",
   "metadata": {},
   "outputs": [
    {
     "data": {
      "text/plain": [
       "array(['Tom      Jackson', '       Pablo Perez', 'Joao    Silva',\n",
       "       'Walter Muller', 'Remy    Monet', 'Remy Monet',\n",
       "       '       Remy Monet', 'Remy     Monet', 'Pablo Perez',\n",
       "       'Pablo   Perez', 'Pablo  Perez', 'Pablo    Perez', 'Joao Silva',\n",
       "       'Tom Jackson'], dtype=object)"
      ]
     },
     "execution_count": 35,
     "metadata": {},
     "output_type": "execute_result"
    }
   ],
   "source": [
    "#remover espaços\n",
    "data['Manager'].unique()"
   ]
  },
  {
   "cell_type": "code",
   "execution_count": 36,
   "id": "977c655e",
   "metadata": {},
   "outputs": [],
   "source": [
    "#remove os espaços\n",
    "data['Manager']=data['Manager'].str.strip().str.replace(r'\\s+', ' ', regex=True)"
   ]
  },
  {
   "cell_type": "code",
   "execution_count": 37,
   "id": "f8e40815",
   "metadata": {},
   "outputs": [
    {
     "data": {
      "text/plain": [
       "5"
      ]
     },
     "execution_count": 37,
     "metadata": {},
     "output_type": "execute_result"
    }
   ],
   "source": [
    "data['Manager'].nunique()"
   ]
  },
  {
   "cell_type": "code",
   "execution_count": 38,
   "id": "81a86e04",
   "metadata": {},
   "outputs": [
    {
     "name": "stderr",
     "output_type": "stream",
     "text": [
      "C:\\Users\\Potrich\\AppData\\Local\\Temp\\ipykernel_11204\\2620707362.py:2: FutureWarning: The behavior of value_counts with object-dtype is deprecated. In a future version, this will *not* perform dtype inference on the resulting index. To retain the old behavior, use `result.index = result.index.infer_objects()`\n",
      "  data.describe()\n"
     ]
    },
    {
     "data": {
      "text/html": [
       "<div>\n",
       "<style scoped>\n",
       "    .dataframe tbody tr th:only-of-type {\n",
       "        vertical-align: middle;\n",
       "    }\n",
       "\n",
       "    .dataframe tbody tr th {\n",
       "        vertical-align: top;\n",
       "    }\n",
       "\n",
       "    .dataframe thead th {\n",
       "        text-align: right;\n",
       "    }\n",
       "</style>\n",
       "<table border=\"1\" class=\"dataframe\">\n",
       "  <thead>\n",
       "    <tr style=\"text-align: right;\">\n",
       "      <th></th>\n",
       "      <th>Order ID</th>\n",
       "      <th>Date</th>\n",
       "      <th>Product</th>\n",
       "      <th>Price</th>\n",
       "      <th>Quantity</th>\n",
       "      <th>Purchase Type</th>\n",
       "      <th>Payment Method</th>\n",
       "      <th>Manager</th>\n",
       "      <th>City</th>\n",
       "    </tr>\n",
       "  </thead>\n",
       "  <tbody>\n",
       "    <tr>\n",
       "      <th>count</th>\n",
       "      <td>254</td>\n",
       "      <td>254</td>\n",
       "      <td>254</td>\n",
       "      <td>254.00</td>\n",
       "      <td>254.000000</td>\n",
       "      <td>254</td>\n",
       "      <td>254</td>\n",
       "      <td>254</td>\n",
       "      <td>254</td>\n",
       "    </tr>\n",
       "    <tr>\n",
       "      <th>unique</th>\n",
       "      <td>254</td>\n",
       "      <td>53</td>\n",
       "      <td>5</td>\n",
       "      <td>7.00</td>\n",
       "      <td>29.000000</td>\n",
       "      <td>3</td>\n",
       "      <td>3</td>\n",
       "      <td>5</td>\n",
       "      <td>5</td>\n",
       "    </tr>\n",
       "    <tr>\n",
       "      <th>top</th>\n",
       "      <td>10452</td>\n",
       "      <td>2022-11-09 00:00:00</td>\n",
       "      <td>Chicken Sandwiches</td>\n",
       "      <td>12.99</td>\n",
       "      <td>200.400802</td>\n",
       "      <td>Online</td>\n",
       "      <td>Credit Card</td>\n",
       "      <td>Tom Jackson</td>\n",
       "      <td>London</td>\n",
       "    </tr>\n",
       "    <tr>\n",
       "      <th>freq</th>\n",
       "      <td>1</td>\n",
       "      <td>5</td>\n",
       "      <td>52</td>\n",
       "      <td>52.00</td>\n",
       "      <td>49.000000</td>\n",
       "      <td>107</td>\n",
       "      <td>120</td>\n",
       "      <td>75</td>\n",
       "      <td>75</td>\n",
       "    </tr>\n",
       "  </tbody>\n",
       "</table>\n",
       "</div>"
      ],
      "text/plain": [
       "0       Order ID                 Date             Product   Price    Quantity  \\\n",
       "count        254                  254                 254  254.00  254.000000   \n",
       "unique       254                   53                   5    7.00   29.000000   \n",
       "top        10452  2022-11-09 00:00:00  Chicken Sandwiches   12.99  200.400802   \n",
       "freq           1                    5                  52   52.00   49.000000   \n",
       "\n",
       "0      Purchase Type Payment Method      Manager    City  \n",
       "count            254            254          254     254  \n",
       "unique             3              3            5       5  \n",
       "top          Online     Credit Card  Tom Jackson  London  \n",
       "freq             107            120           75      75  "
      ]
     },
     "execution_count": 38,
     "metadata": {},
     "output_type": "execute_result"
    }
   ],
   "source": [
    "#remover duplicatas\n",
    "data.describe()"
   ]
  },
  {
   "cell_type": "code",
   "execution_count": 39,
   "id": "28271822",
   "metadata": {},
   "outputs": [
    {
     "data": {
      "text/html": [
       "<div>\n",
       "<style scoped>\n",
       "    .dataframe tbody tr th:only-of-type {\n",
       "        vertical-align: middle;\n",
       "    }\n",
       "\n",
       "    .dataframe tbody tr th {\n",
       "        vertical-align: top;\n",
       "    }\n",
       "\n",
       "    .dataframe thead th {\n",
       "        text-align: right;\n",
       "    }\n",
       "</style>\n",
       "<table border=\"1\" class=\"dataframe\">\n",
       "  <thead>\n",
       "    <tr style=\"text-align: right;\">\n",
       "      <th></th>\n",
       "      <th>Order ID</th>\n",
       "      <th>Date</th>\n",
       "      <th>Product</th>\n",
       "      <th>Price</th>\n",
       "      <th>Quantity</th>\n",
       "      <th>Purchase Type</th>\n",
       "      <th>Payment Method</th>\n",
       "      <th>Manager</th>\n",
       "      <th>City</th>\n",
       "    </tr>\n",
       "  </thead>\n",
       "  <tbody>\n",
       "  </tbody>\n",
       "</table>\n",
       "</div>"
      ],
      "text/plain": [
       "Empty DataFrame\n",
       "Columns: [Order ID, Date, Product, Price, Quantity, Purchase Type, Payment Method, Manager, City]\n",
       "Index: []"
      ]
     },
     "execution_count": 39,
     "metadata": {},
     "output_type": "execute_result"
    }
   ],
   "source": [
    "data[data.duplicated()]"
   ]
  },
  {
   "cell_type": "code",
   "execution_count": 40,
   "id": "4b5a19d8",
   "metadata": {},
   "outputs": [
    {
     "name": "stdout",
     "output_type": "stream",
     "text": [
      "<class 'pandas.core.frame.DataFrame'>\n",
      "RangeIndex: 254 entries, 1 to 254\n",
      "Data columns (total 9 columns):\n",
      " #   Column          Non-Null Count  Dtype \n",
      "---  ------          --------------  ----- \n",
      " 0   Order ID        254 non-null    object\n",
      " 1   Date            254 non-null    object\n",
      " 2   Product         254 non-null    object\n",
      " 3   Price           254 non-null    object\n",
      " 4   Quantity        254 non-null    object\n",
      " 5   Purchase Type   254 non-null    object\n",
      " 6   Payment Method  254 non-null    object\n",
      " 7   Manager         254 non-null    object\n",
      " 8   City            254 non-null    object\n",
      "dtypes: object(9)\n",
      "memory usage: 18.0+ KB\n"
     ]
    }
   ],
   "source": [
    "#Transformar os dados no tipo correto\n",
    "data.info()"
   ]
  },
  {
   "cell_type": "code",
   "execution_count": 52,
   "id": "754f229f",
   "metadata": {},
   "outputs": [],
   "source": [
    "#primeiro se converte para float depois arredonda (tanto para cima ou para baixo) e depois converte para inteiro\n",
    "data['Quantity'] =data['Quantity'].astype(float)"
   ]
  },
  {
   "cell_type": "code",
   "execution_count": 42,
   "id": "8bcb3a6e",
   "metadata": {},
   "outputs": [],
   "source": [
    "data['Quantity']= data['Quantity'].round()"
   ]
  },
  {
   "cell_type": "code",
   "execution_count": 44,
   "id": "28b51d89",
   "metadata": {},
   "outputs": [],
   "source": [
    "data['Quantity'] =data['Quantity'].astype(int)"
   ]
  },
  {
   "cell_type": "code",
   "execution_count": 46,
   "id": "cbd03d27",
   "metadata": {},
   "outputs": [],
   "source": [
    "data['Order ID']= data['Order ID'].astype(int)"
   ]
  },
  {
   "cell_type": "code",
   "execution_count": 48,
   "id": "28ad5501",
   "metadata": {},
   "outputs": [],
   "source": [
    "data['Price']=data['Price'].astype(float)"
   ]
  },
  {
   "cell_type": "code",
   "execution_count": 50,
   "id": "fcb8e830",
   "metadata": {},
   "outputs": [],
   "source": [
    "data['Date']=pd.to_datetime(data['Date'])"
   ]
  },
  {
   "cell_type": "code",
   "execution_count": 51,
   "id": "477696c2",
   "metadata": {},
   "outputs": [
    {
     "name": "stdout",
     "output_type": "stream",
     "text": [
      "<class 'pandas.core.frame.DataFrame'>\n",
      "RangeIndex: 254 entries, 1 to 254\n",
      "Data columns (total 9 columns):\n",
      " #   Column          Non-Null Count  Dtype         \n",
      "---  ------          --------------  -----         \n",
      " 0   Order ID        254 non-null    int64         \n",
      " 1   Date            254 non-null    datetime64[ns]\n",
      " 2   Product         254 non-null    object        \n",
      " 3   Price           254 non-null    float64       \n",
      " 4   Quantity        254 non-null    int64         \n",
      " 5   Purchase Type   254 non-null    object        \n",
      " 6   Payment Method  254 non-null    object        \n",
      " 7   Manager         254 non-null    object        \n",
      " 8   City            254 non-null    object        \n",
      "dtypes: datetime64[ns](1), float64(1), int64(2), object(5)\n",
      "memory usage: 18.0+ KB\n"
     ]
    }
   ],
   "source": [
    "data.info()"
   ]
  },
  {
   "cell_type": "markdown",
   "id": "4edada1c",
   "metadata": {},
   "source": [
    "## MÉTODO DE PAGAMENTO MAIS USADO"
   ]
  },
  {
   "cell_type": "code",
   "execution_count": 53,
   "id": "1f45347d",
   "metadata": {},
   "outputs": [
    {
     "data": {
      "text/plain": [
       "Payment Method\n",
       "Credit Card    120\n",
       "Cash            76\n",
       "Gift Card       58\n",
       "Name: count, dtype: int64"
      ]
     },
     "execution_count": 53,
     "metadata": {},
     "output_type": "execute_result"
    }
   ],
   "source": [
    "data['Payment Method'].value_counts()"
   ]
  },
  {
   "cell_type": "code",
   "execution_count": 55,
   "id": "7db86e92",
   "metadata": {},
   "outputs": [
    {
     "data": {
      "image/png": "[encoded data removed]",
      "text/plain": [
       "<Figure size 640x480 with 1 Axes>"
      ]
     },
     "metadata": {},
     "output_type": "display_data"
    }
   ],
   "source": [
    "data['Payment Method'].value_counts().plot(kind='bar') ;"
   ]
  },
  {
   "cell_type": "markdown",
   "id": "a26602a3",
   "metadata": {},
   "source": [
    "## produto mais vendido por quantidade e por receita"
   ]
  },
  {
   "cell_type": "code",
   "execution_count": 56,
   "id": "145abfd6",
   "metadata": {},
   "outputs": [
    {
     "data": {
      "text/html": [
       "<div>\n",
       "<style scoped>\n",
       "    .dataframe tbody tr th:only-of-type {\n",
       "        vertical-align: middle;\n",
       "    }\n",
       "\n",
       "    .dataframe tbody tr th {\n",
       "        vertical-align: top;\n",
       "    }\n",
       "\n",
       "    .dataframe thead th {\n",
       "        text-align: right;\n",
       "    }\n",
       "</style>\n",
       "<table border=\"1\" class=\"dataframe\">\n",
       "  <thead>\n",
       "    <tr style=\"text-align: right;\">\n",
       "      <th></th>\n",
       "      <th>Order ID</th>\n",
       "      <th>Date</th>\n",
       "      <th>Product</th>\n",
       "      <th>Price</th>\n",
       "      <th>Quantity</th>\n",
       "      <th>Purchase Type</th>\n",
       "      <th>Payment Method</th>\n",
       "      <th>Manager</th>\n",
       "      <th>City</th>\n",
       "    </tr>\n",
       "  </thead>\n",
       "  <tbody>\n",
       "    <tr>\n",
       "      <th>1</th>\n",
       "      <td>10452</td>\n",
       "      <td>2022-11-07</td>\n",
       "      <td>Fries</td>\n",
       "      <td>3.49</td>\n",
       "      <td>573.0</td>\n",
       "      <td>Online</td>\n",
       "      <td>Gift Card</td>\n",
       "      <td>Tom Jackson</td>\n",
       "      <td>London</td>\n",
       "    </tr>\n",
       "    <tr>\n",
       "      <th>2</th>\n",
       "      <td>10453</td>\n",
       "      <td>2022-11-07</td>\n",
       "      <td>Beverages</td>\n",
       "      <td>2.95</td>\n",
       "      <td>746.0</td>\n",
       "      <td>Online</td>\n",
       "      <td>Gift Card</td>\n",
       "      <td>Pablo Perez</td>\n",
       "      <td>Madrid</td>\n",
       "    </tr>\n",
       "  </tbody>\n",
       "</table>\n",
       "</div>"
      ],
      "text/plain": [
       "0  Order ID       Date    Product  Price  Quantity Purchase Type  \\\n",
       "1     10452 2022-11-07      Fries   3.49     573.0       Online    \n",
       "2     10453 2022-11-07  Beverages   2.95     746.0       Online    \n",
       "\n",
       "0 Payment Method      Manager    City  \n",
       "1      Gift Card  Tom Jackson  London  \n",
       "2      Gift Card  Pablo Perez  Madrid  "
      ]
     },
     "execution_count": 56,
     "metadata": {},
     "output_type": "execute_result"
    }
   ],
   "source": [
    "data.head(2)"
   ]
  },
  {
   "cell_type": "code",
   "execution_count": 61,
   "id": "5dc8a6ab",
   "metadata": {},
   "outputs": [
    {
     "data": {
      "text/plain": [
       "Product\n",
       "Beverages             34988.0\n",
       "Burgers               29018.0\n",
       "Chicken Sandwiches    11133.0\n",
       "Fries                 32023.0\n",
       "Sides & Other          9800.0\n",
       "Name: Quantity, dtype: float64"
      ]
     },
     "execution_count": 61,
     "metadata": {},
     "output_type": "execute_result"
    }
   ],
   "source": [
    "data.groupby('Product')['Quantity'].sum()"
   ]
  },
  {
   "cell_type": "code",
   "execution_count": 75,
   "id": "bef2f37c",
   "metadata": {},
   "outputs": [
    {
     "data": {
      "text/plain": [
       "Product\n",
       "Beverages             34988.0\n",
       "Fries                 32023.0\n",
       "Burgers               29018.0\n",
       "Chicken Sandwiches    11133.0\n",
       "Sides & Other          9800.0\n",
       "Name: Quantity, dtype: float64"
      ]
     },
     "execution_count": 75,
     "metadata": {},
     "output_type": "execute_result"
    }
   ],
   "source": [
    "maior_quantidade=data.groupby('Product')['Quantity'].sum().sort_values(ascending=False)\n",
    "maior_quantidade"
   ]
  },
  {
   "cell_type": "code",
   "execution_count": 76,
   "id": "836de322",
   "metadata": {},
   "outputs": [
    {
     "data": {
      "text/plain": [
       "pandas.core.series.Series"
      ]
     },
     "execution_count": 76,
     "metadata": {},
     "output_type": "execute_result"
    }
   ],
   "source": [
    "type(maior_quantidade)"
   ]
  },
  {
   "cell_type": "code",
   "execution_count": 77,
   "id": "fe9585db",
   "metadata": {},
   "outputs": [
    {
     "data": {
      "text/html": [
       "<div>\n",
       "<style scoped>\n",
       "    .dataframe tbody tr th:only-of-type {\n",
       "        vertical-align: middle;\n",
       "    }\n",
       "\n",
       "    .dataframe tbody tr th {\n",
       "        vertical-align: top;\n",
       "    }\n",
       "\n",
       "    .dataframe thead th {\n",
       "        text-align: right;\n",
       "    }\n",
       "</style>\n",
       "<table border=\"1\" class=\"dataframe\">\n",
       "  <thead>\n",
       "    <tr style=\"text-align: right;\">\n",
       "      <th></th>\n",
       "      <th>Product</th>\n",
       "      <th>Quantity</th>\n",
       "    </tr>\n",
       "  </thead>\n",
       "  <tbody>\n",
       "    <tr>\n",
       "      <th>0</th>\n",
       "      <td>Beverages</td>\n",
       "      <td>34988.0</td>\n",
       "    </tr>\n",
       "    <tr>\n",
       "      <th>1</th>\n",
       "      <td>Fries</td>\n",
       "      <td>32023.0</td>\n",
       "    </tr>\n",
       "    <tr>\n",
       "      <th>2</th>\n",
       "      <td>Burgers</td>\n",
       "      <td>29018.0</td>\n",
       "    </tr>\n",
       "    <tr>\n",
       "      <th>3</th>\n",
       "      <td>Chicken Sandwiches</td>\n",
       "      <td>11133.0</td>\n",
       "    </tr>\n",
       "    <tr>\n",
       "      <th>4</th>\n",
       "      <td>Sides &amp; Other</td>\n",
       "      <td>9800.0</td>\n",
       "    </tr>\n",
       "  </tbody>\n",
       "</table>\n",
       "</div>"
      ],
      "text/plain": [
       "              Product  Quantity\n",
       "0           Beverages   34988.0\n",
       "1               Fries   32023.0\n",
       "2             Burgers   29018.0\n",
       "3  Chicken Sandwiches   11133.0\n",
       "4       Sides & Other    9800.0"
      ]
     },
     "execution_count": 77,
     "metadata": {},
     "output_type": "execute_result"
    }
   ],
   "source": [
    "maior_quantidade=maior_quantidade.reset_index()\n",
    "maior_quantidade"
   ]
  },
  {
   "cell_type": "code",
   "execution_count": 105,
   "id": "7b1a0760",
   "metadata": {},
   "outputs": [
    {
     "data": {
      "text/plain": [
       "Text(0, 0.5, 'Quantidade')"
      ]
     },
     "execution_count": 105,
     "metadata": {},
     "output_type": "execute_result"
    },
    {
     "data": {
      "image/png": "[encoded data removed]",
      "text/plain": [
       "<Figure size 900x400 with 1 Axes>"
      ]
     },
     "metadata": {},
     "output_type": "display_data"
    }
   ],
   "source": [
    "plt.figure(figsize=(9, 4))\n",
    "plt.bar(maior_quantidade['Product'], maior_quantidade['Quantity'], color=['red','blue','green','yellow','cyan'])\n",
    "plt.title('Produtos mais vendidor por quantidade')\n",
    "plt.xlabel('Produtos')\n",
    "plt.ylabel('Quantidade')"
   ]
  },
  {
   "cell_type": "code",
   "execution_count": 107,
   "id": "37055626",
   "metadata": {},
   "outputs": [
    {
     "data": {
      "text/html": [
       "<div>\n",
       "<style scoped>\n",
       "    .dataframe tbody tr th:only-of-type {\n",
       "        vertical-align: middle;\n",
       "    }\n",
       "\n",
       "    .dataframe tbody tr th {\n",
       "        vertical-align: top;\n",
       "    }\n",
       "\n",
       "    .dataframe thead th {\n",
       "        text-align: right;\n",
       "    }\n",
       "</style>\n",
       "<table border=\"1\" class=\"dataframe\">\n",
       "  <thead>\n",
       "    <tr style=\"text-align: right;\">\n",
       "      <th></th>\n",
       "      <th>Order ID</th>\n",
       "      <th>Date</th>\n",
       "      <th>Product</th>\n",
       "      <th>Price</th>\n",
       "      <th>Quantity</th>\n",
       "      <th>Purchase Type</th>\n",
       "      <th>Payment Method</th>\n",
       "      <th>Manager</th>\n",
       "      <th>City</th>\n",
       "      <th>Receita</th>\n",
       "    </tr>\n",
       "  </thead>\n",
       "  <tbody>\n",
       "    <tr>\n",
       "      <th>1</th>\n",
       "      <td>10452</td>\n",
       "      <td>2022-11-07</td>\n",
       "      <td>Fries</td>\n",
       "      <td>3.49</td>\n",
       "      <td>573.0</td>\n",
       "      <td>Online</td>\n",
       "      <td>Gift Card</td>\n",
       "      <td>Tom Jackson</td>\n",
       "      <td>London</td>\n",
       "      <td>1999.77</td>\n",
       "    </tr>\n",
       "    <tr>\n",
       "      <th>2</th>\n",
       "      <td>10453</td>\n",
       "      <td>2022-11-07</td>\n",
       "      <td>Beverages</td>\n",
       "      <td>2.95</td>\n",
       "      <td>746.0</td>\n",
       "      <td>Online</td>\n",
       "      <td>Gift Card</td>\n",
       "      <td>Pablo Perez</td>\n",
       "      <td>Madrid</td>\n",
       "      <td>2200.70</td>\n",
       "    </tr>\n",
       "    <tr>\n",
       "      <th>3</th>\n",
       "      <td>10454</td>\n",
       "      <td>2022-11-07</td>\n",
       "      <td>Sides &amp; Other</td>\n",
       "      <td>4.99</td>\n",
       "      <td>200.0</td>\n",
       "      <td>In-store</td>\n",
       "      <td>Gift Card</td>\n",
       "      <td>Joao Silva</td>\n",
       "      <td>Lisbon</td>\n",
       "      <td>998.00</td>\n",
       "    </tr>\n",
       "    <tr>\n",
       "      <th>4</th>\n",
       "      <td>10455</td>\n",
       "      <td>2022-11-08</td>\n",
       "      <td>Burgers</td>\n",
       "      <td>12.99</td>\n",
       "      <td>570.0</td>\n",
       "      <td>In-store</td>\n",
       "      <td>Credit Card</td>\n",
       "      <td>Walter Muller</td>\n",
       "      <td>Berlin</td>\n",
       "      <td>7404.30</td>\n",
       "    </tr>\n",
       "    <tr>\n",
       "      <th>5</th>\n",
       "      <td>10456</td>\n",
       "      <td>2022-11-08</td>\n",
       "      <td>Chicken Sandwiches</td>\n",
       "      <td>9.95</td>\n",
       "      <td>201.0</td>\n",
       "      <td>In-store</td>\n",
       "      <td>Credit Card</td>\n",
       "      <td>Walter Muller</td>\n",
       "      <td>Berlin</td>\n",
       "      <td>1999.95</td>\n",
       "    </tr>\n",
       "    <tr>\n",
       "      <th>...</th>\n",
       "      <td>...</td>\n",
       "      <td>...</td>\n",
       "      <td>...</td>\n",
       "      <td>...</td>\n",
       "      <td>...</td>\n",
       "      <td>...</td>\n",
       "      <td>...</td>\n",
       "      <td>...</td>\n",
       "      <td>...</td>\n",
       "      <td>...</td>\n",
       "    </tr>\n",
       "    <tr>\n",
       "      <th>250</th>\n",
       "      <td>10709</td>\n",
       "      <td>2022-12-28</td>\n",
       "      <td>Sides &amp; Other</td>\n",
       "      <td>4.99</td>\n",
       "      <td>200.0</td>\n",
       "      <td>Drive-thru</td>\n",
       "      <td>Gift Card</td>\n",
       "      <td>Walter Muller</td>\n",
       "      <td>Berlin</td>\n",
       "      <td>998.00</td>\n",
       "    </tr>\n",
       "    <tr>\n",
       "      <th>251</th>\n",
       "      <td>10710</td>\n",
       "      <td>2022-12-29</td>\n",
       "      <td>Burgers</td>\n",
       "      <td>12.99</td>\n",
       "      <td>754.0</td>\n",
       "      <td>Drive-thru</td>\n",
       "      <td>Gift Card</td>\n",
       "      <td>Walter Muller</td>\n",
       "      <td>Berlin</td>\n",
       "      <td>9794.46</td>\n",
       "    </tr>\n",
       "    <tr>\n",
       "      <th>252</th>\n",
       "      <td>10711</td>\n",
       "      <td>2022-12-29</td>\n",
       "      <td>Chicken Sandwiches</td>\n",
       "      <td>9.95</td>\n",
       "      <td>281.0</td>\n",
       "      <td>Drive-thru</td>\n",
       "      <td>Gift Card</td>\n",
       "      <td>Walter Muller</td>\n",
       "      <td>Berlin</td>\n",
       "      <td>2795.95</td>\n",
       "    </tr>\n",
       "    <tr>\n",
       "      <th>253</th>\n",
       "      <td>10712</td>\n",
       "      <td>2022-12-29</td>\n",
       "      <td>Fries</td>\n",
       "      <td>3.49</td>\n",
       "      <td>630.0</td>\n",
       "      <td>Drive-thru</td>\n",
       "      <td>Gift Card</td>\n",
       "      <td>Walter Muller</td>\n",
       "      <td>Berlin</td>\n",
       "      <td>2198.70</td>\n",
       "    </tr>\n",
       "    <tr>\n",
       "      <th>254</th>\n",
       "      <td>10713</td>\n",
       "      <td>2022-12-29</td>\n",
       "      <td>Beverages</td>\n",
       "      <td>2.95</td>\n",
       "      <td>678.0</td>\n",
       "      <td>Drive-thru</td>\n",
       "      <td>Gift Card</td>\n",
       "      <td>Walter Muller</td>\n",
       "      <td>Berlin</td>\n",
       "      <td>2000.10</td>\n",
       "    </tr>\n",
       "  </tbody>\n",
       "</table>\n",
       "<p>254 rows × 10 columns</p>\n",
       "</div>"
      ],
      "text/plain": [
       "0    Order ID       Date             Product  Price  Quantity Purchase Type  \\\n",
       "1       10452 2022-11-07               Fries   3.49     573.0       Online    \n",
       "2       10453 2022-11-07           Beverages   2.95     746.0       Online    \n",
       "3       10454 2022-11-07       Sides & Other   4.99     200.0     In-store    \n",
       "4       10455 2022-11-08             Burgers  12.99     570.0     In-store    \n",
       "5       10456 2022-11-08  Chicken Sandwiches   9.95     201.0     In-store    \n",
       "..        ...        ...                 ...    ...       ...           ...   \n",
       "250     10709 2022-12-28       Sides & Other   4.99     200.0   Drive-thru    \n",
       "251     10710 2022-12-29             Burgers  12.99     754.0   Drive-thru    \n",
       "252     10711 2022-12-29  Chicken Sandwiches   9.95     281.0   Drive-thru    \n",
       "253     10712 2022-12-29               Fries   3.49     630.0   Drive-thru    \n",
       "254     10713 2022-12-29           Beverages   2.95     678.0   Drive-thru    \n",
       "\n",
       "0   Payment Method        Manager    City  Receita  \n",
       "1        Gift Card    Tom Jackson  London  1999.77  \n",
       "2        Gift Card    Pablo Perez  Madrid  2200.70  \n",
       "3        Gift Card     Joao Silva  Lisbon   998.00  \n",
       "4      Credit Card  Walter Muller  Berlin  7404.30  \n",
       "5      Credit Card  Walter Muller  Berlin  1999.95  \n",
       "..             ...            ...     ...      ...  \n",
       "250      Gift Card  Walter Muller  Berlin   998.00  \n",
       "251      Gift Card  Walter Muller  Berlin  9794.46  \n",
       "252      Gift Card  Walter Muller  Berlin  2795.95  \n",
       "253      Gift Card  Walter Muller  Berlin  2198.70  \n",
       "254      Gift Card  Walter Muller  Berlin  2000.10  \n",
       "\n",
       "[254 rows x 10 columns]"
      ]
     },
     "execution_count": 107,
     "metadata": {},
     "output_type": "execute_result"
    }
   ],
   "source": [
    "data['Receita']= data['Price']* data['Quantity']\n",
    "data"
   ]
  },
  {
   "cell_type": "code",
   "execution_count": 109,
   "id": "bebb4dba",
   "metadata": {},
   "outputs": [
    {
     "data": {
      "text/plain": [
       "Product\n",
       "Burgers               376943.82\n",
       "Fries                 125626.57\n",
       "Chicken Sandwiches    114612.45\n",
       "Beverages             103214.60\n",
       "Sides & Other          48902.00\n",
       "Name: Receita, dtype: float64"
      ]
     },
     "execution_count": 109,
     "metadata": {},
     "output_type": "execute_result"
    }
   ],
   "source": [
    "data.groupby('Product')['Receita'].sum().sort_values(ascending=False)"
   ]
  },
  {
   "cell_type": "code",
   "execution_count": 110,
   "id": "0acc5d3c",
   "metadata": {},
   "outputs": [
    {
     "data": {
      "text/plain": [
       "Product\n",
       "Burgers               376943.82\n",
       "Fries                 125626.57\n",
       "Chicken Sandwiches    114612.45\n",
       "Beverages             103214.60\n",
       "Sides & Other          48902.00\n",
       "Name: Receita, dtype: float64"
      ]
     },
     "execution_count": 110,
     "metadata": {},
     "output_type": "execute_result"
    }
   ],
   "source": [
    "maior_receita= data.groupby('Product')['Receita'].sum().sort_values(ascending=False)\n",
    "maior_receita"
   ]
  },
  {
   "cell_type": "code",
   "execution_count": 112,
   "id": "3ca59524",
   "metadata": {},
   "outputs": [],
   "source": [
    "maior_receita=maior_receita.reset_index()"
   ]
  },
  {
   "cell_type": "code",
   "execution_count": 123,
   "id": "96c5810c",
   "metadata": {},
   "outputs": [
    {
     "data": {
      "text/plain": [
       "Text(0, 0.5, 'Quantidade')"
      ]
     },
     "execution_count": 123,
     "metadata": {},
     "output_type": "execute_result"
    },
    {
     "data": {
      "image/png": "[encoded data removed]",
      "text/plain": [
       "<Figure size 900x400 with 1 Axes>"
      ]
     },
     "metadata": {},
     "output_type": "display_data"
    }
   ],
   "source": [
    "plt.figure(figsize=(9,4))\n",
    "plt.bar(maior_receita['Product'], maior_receita['Receita'], color=['red','blue','green','yellow','cyan'])\n",
    "plt.title('Produto com maior receita')\n",
    "plt.xlabel('Produto')\n",
    "plt.ylabel('Quantidade')"
   ]
  },
  {
   "cell_type": "markdown",
   "id": "67f4e665",
   "metadata": {},
   "source": [
    "## qual cidade teve a maior receita\n",
    "\n",
    "## ou\n",
    "\n",
    "## qual gerente ganhou mais?"
   ]
  },
  {
   "cell_type": "code",
   "execution_count": 124,
   "id": "a62c3f2d",
   "metadata": {},
   "outputs": [
    {
     "data": {
      "text/html": [
       "<div>\n",
       "<style scoped>\n",
       "    .dataframe tbody tr th:only-of-type {\n",
       "        vertical-align: middle;\n",
       "    }\n",
       "\n",
       "    .dataframe tbody tr th {\n",
       "        vertical-align: top;\n",
       "    }\n",
       "\n",
       "    .dataframe thead th {\n",
       "        text-align: right;\n",
       "    }\n",
       "</style>\n",
       "<table border=\"1\" class=\"dataframe\">\n",
       "  <thead>\n",
       "    <tr style=\"text-align: right;\">\n",
       "      <th></th>\n",
       "      <th>Order ID</th>\n",
       "      <th>Date</th>\n",
       "      <th>Product</th>\n",
       "      <th>Price</th>\n",
       "      <th>Quantity</th>\n",
       "      <th>Purchase Type</th>\n",
       "      <th>Payment Method</th>\n",
       "      <th>Manager</th>\n",
       "      <th>City</th>\n",
       "      <th>Receita</th>\n",
       "    </tr>\n",
       "  </thead>\n",
       "  <tbody>\n",
       "    <tr>\n",
       "      <th>1</th>\n",
       "      <td>10452</td>\n",
       "      <td>2022-11-07</td>\n",
       "      <td>Fries</td>\n",
       "      <td>3.49</td>\n",
       "      <td>573.0</td>\n",
       "      <td>Online</td>\n",
       "      <td>Gift Card</td>\n",
       "      <td>Tom Jackson</td>\n",
       "      <td>London</td>\n",
       "      <td>1999.77</td>\n",
       "    </tr>\n",
       "    <tr>\n",
       "      <th>2</th>\n",
       "      <td>10453</td>\n",
       "      <td>2022-11-07</td>\n",
       "      <td>Beverages</td>\n",
       "      <td>2.95</td>\n",
       "      <td>746.0</td>\n",
       "      <td>Online</td>\n",
       "      <td>Gift Card</td>\n",
       "      <td>Pablo Perez</td>\n",
       "      <td>Madrid</td>\n",
       "      <td>2200.70</td>\n",
       "    </tr>\n",
       "    <tr>\n",
       "      <th>3</th>\n",
       "      <td>10454</td>\n",
       "      <td>2022-11-07</td>\n",
       "      <td>Sides &amp; Other</td>\n",
       "      <td>4.99</td>\n",
       "      <td>200.0</td>\n",
       "      <td>In-store</td>\n",
       "      <td>Gift Card</td>\n",
       "      <td>Joao Silva</td>\n",
       "      <td>Lisbon</td>\n",
       "      <td>998.00</td>\n",
       "    </tr>\n",
       "    <tr>\n",
       "      <th>4</th>\n",
       "      <td>10455</td>\n",
       "      <td>2022-11-08</td>\n",
       "      <td>Burgers</td>\n",
       "      <td>12.99</td>\n",
       "      <td>570.0</td>\n",
       "      <td>In-store</td>\n",
       "      <td>Credit Card</td>\n",
       "      <td>Walter Muller</td>\n",
       "      <td>Berlin</td>\n",
       "      <td>7404.30</td>\n",
       "    </tr>\n",
       "    <tr>\n",
       "      <th>5</th>\n",
       "      <td>10456</td>\n",
       "      <td>2022-11-08</td>\n",
       "      <td>Chicken Sandwiches</td>\n",
       "      <td>9.95</td>\n",
       "      <td>201.0</td>\n",
       "      <td>In-store</td>\n",
       "      <td>Credit Card</td>\n",
       "      <td>Walter Muller</td>\n",
       "      <td>Berlin</td>\n",
       "      <td>1999.95</td>\n",
       "    </tr>\n",
       "  </tbody>\n",
       "</table>\n",
       "</div>"
      ],
      "text/plain": [
       "0  Order ID       Date             Product  Price  Quantity Purchase Type  \\\n",
       "1     10452 2022-11-07               Fries   3.49     573.0       Online    \n",
       "2     10453 2022-11-07           Beverages   2.95     746.0       Online    \n",
       "3     10454 2022-11-07       Sides & Other   4.99     200.0     In-store    \n",
       "4     10455 2022-11-08             Burgers  12.99     570.0     In-store    \n",
       "5     10456 2022-11-08  Chicken Sandwiches   9.95     201.0     In-store    \n",
       "\n",
       "0 Payment Method        Manager    City  Receita  \n",
       "1      Gift Card    Tom Jackson  London  1999.77  \n",
       "2      Gift Card    Pablo Perez  Madrid  2200.70  \n",
       "3      Gift Card     Joao Silva  Lisbon   998.00  \n",
       "4    Credit Card  Walter Muller  Berlin  7404.30  \n",
       "5    Credit Card  Walter Muller  Berlin  1999.95  "
      ]
     },
     "execution_count": 124,
     "metadata": {},
     "output_type": "execute_result"
    }
   ],
   "source": [
    "data.head()"
   ]
  },
  {
   "cell_type": "code",
   "execution_count": 126,
   "id": "3ecaddfc",
   "metadata": {},
   "outputs": [
    {
     "data": {
      "text/plain": [
       "City\n",
       "Lisbon    241635.49\n",
       "London    211160.04\n",
       "Madrid    136154.24\n",
       "Berlin    100572.34\n",
       "Paris      79777.33\n",
       "Name: Receita, dtype: float64"
      ]
     },
     "execution_count": 126,
     "metadata": {},
     "output_type": "execute_result"
    }
   ],
   "source": [
    "data.groupby('City')['Receita'].sum().sort_values(ascending=False)"
   ]
  },
  {
   "cell_type": "code",
   "execution_count": 127,
   "id": "1e9eb153",
   "metadata": {},
   "outputs": [
    {
     "data": {
      "text/plain": [
       "Manager\n",
       "Joao Silva       241635.49\n",
       "Tom Jackson      211160.04\n",
       "Pablo Perez      136154.24\n",
       "Walter Muller    100572.34\n",
       "Remy Monet        79777.33\n",
       "Name: Receita, dtype: float64"
      ]
     },
     "execution_count": 127,
     "metadata": {},
     "output_type": "execute_result"
    }
   ],
   "source": [
    "data.groupby('Manager')['Receita'].sum().sort_values(ascending=False)"
   ]
  },
  {
   "cell_type": "markdown",
   "id": "b6361a70",
   "metadata": {},
   "source": [
    "## RECEITA POR DATA"
   ]
  },
  {
   "cell_type": "code",
   "execution_count": 129,
   "id": "4d39d82b",
   "metadata": {},
   "outputs": [
    {
     "data": {
      "text/plain": [
       "53"
      ]
     },
     "execution_count": 129,
     "metadata": {},
     "output_type": "execute_result"
    }
   ],
   "source": [
    "data['Date'].nunique()"
   ]
  },
  {
   "cell_type": "code",
   "execution_count": 132,
   "id": "e37b2073",
   "metadata": {},
   "outputs": [
    {
     "data": {
      "image/png": "[encoded data removed]",
      "text/plain": [
       "<Figure size 900x400 with 1 Axes>"
      ]
     },
     "metadata": {},
     "output_type": "display_data"
    }
   ],
   "source": [
    "data.plot('Date','Receita', color='red',linewidth=2, figsize=(9,4))\n",
    "plt.title('Receita por data')\n",
    "plt.xlabel('Data')\n",
    "plt.ylabel('Receita')\n",
    "plt.show()"
   ]
  },
  {
   "cell_type": "markdown",
   "id": "cac5c0ba",
   "metadata": {},
   "source": [
    "## a media da receita"
   ]
  },
  {
   "cell_type": "code",
   "execution_count": 133,
   "id": "a88546cd",
   "metadata": {},
   "outputs": [
    {
     "data": {
      "text/plain": [
       "np.float64(3028.737952755905)"
      ]
     },
     "execution_count": 133,
     "metadata": {},
     "output_type": "execute_result"
    }
   ],
   "source": [
    "data['Receita'].mean()"
   ]
  },
  {
   "cell_type": "markdown",
   "id": "9e5196ca",
   "metadata": {},
   "source": [
    "## receita media do mes de novembro e dezembro"
   ]
  },
  {
   "cell_type": "code",
   "execution_count": 134,
   "id": "fe48c784",
   "metadata": {},
   "outputs": [],
   "source": [
    "data['date_month']=data['Date'].dt.month"
   ]
  },
  {
   "cell_type": "code",
   "execution_count": 140,
   "id": "d47c88a1",
   "metadata": {},
   "outputs": [
    {
     "data": {
      "text/html": [
       "<div>\n",
       "<style scoped>\n",
       "    .dataframe tbody tr th:only-of-type {\n",
       "        vertical-align: middle;\n",
       "    }\n",
       "\n",
       "    .dataframe tbody tr th {\n",
       "        vertical-align: top;\n",
       "    }\n",
       "\n",
       "    .dataframe thead th {\n",
       "        text-align: right;\n",
       "    }\n",
       "</style>\n",
       "<table border=\"1\" class=\"dataframe\">\n",
       "  <thead>\n",
       "    <tr style=\"text-align: right;\">\n",
       "      <th></th>\n",
       "      <th>Order ID</th>\n",
       "      <th>Date</th>\n",
       "      <th>Product</th>\n",
       "      <th>Price</th>\n",
       "      <th>Quantity</th>\n",
       "      <th>Purchase Type</th>\n",
       "      <th>Payment Method</th>\n",
       "      <th>Manager</th>\n",
       "      <th>City</th>\n",
       "      <th>Receita</th>\n",
       "      <th>date_month</th>\n",
       "    </tr>\n",
       "  </thead>\n",
       "  <tbody>\n",
       "    <tr>\n",
       "      <th>1</th>\n",
       "      <td>10452</td>\n",
       "      <td>2022-11-07</td>\n",
       "      <td>Fries</td>\n",
       "      <td>3.49</td>\n",
       "      <td>573.0</td>\n",
       "      <td>Online</td>\n",
       "      <td>Gift Card</td>\n",
       "      <td>Tom Jackson</td>\n",
       "      <td>London</td>\n",
       "      <td>1999.77</td>\n",
       "      <td>11</td>\n",
       "    </tr>\n",
       "    <tr>\n",
       "      <th>2</th>\n",
       "      <td>10453</td>\n",
       "      <td>2022-11-07</td>\n",
       "      <td>Beverages</td>\n",
       "      <td>2.95</td>\n",
       "      <td>746.0</td>\n",
       "      <td>Online</td>\n",
       "      <td>Gift Card</td>\n",
       "      <td>Pablo Perez</td>\n",
       "      <td>Madrid</td>\n",
       "      <td>2200.70</td>\n",
       "      <td>11</td>\n",
       "    </tr>\n",
       "    <tr>\n",
       "      <th>3</th>\n",
       "      <td>10454</td>\n",
       "      <td>2022-11-07</td>\n",
       "      <td>Sides &amp; Other</td>\n",
       "      <td>4.99</td>\n",
       "      <td>200.0</td>\n",
       "      <td>In-store</td>\n",
       "      <td>Gift Card</td>\n",
       "      <td>Joao Silva</td>\n",
       "      <td>Lisbon</td>\n",
       "      <td>998.00</td>\n",
       "      <td>11</td>\n",
       "    </tr>\n",
       "    <tr>\n",
       "      <th>4</th>\n",
       "      <td>10455</td>\n",
       "      <td>2022-11-08</td>\n",
       "      <td>Burgers</td>\n",
       "      <td>12.99</td>\n",
       "      <td>570.0</td>\n",
       "      <td>In-store</td>\n",
       "      <td>Credit Card</td>\n",
       "      <td>Walter Muller</td>\n",
       "      <td>Berlin</td>\n",
       "      <td>7404.30</td>\n",
       "      <td>11</td>\n",
       "    </tr>\n",
       "    <tr>\n",
       "      <th>5</th>\n",
       "      <td>10456</td>\n",
       "      <td>2022-11-08</td>\n",
       "      <td>Chicken Sandwiches</td>\n",
       "      <td>9.95</td>\n",
       "      <td>201.0</td>\n",
       "      <td>In-store</td>\n",
       "      <td>Credit Card</td>\n",
       "      <td>Walter Muller</td>\n",
       "      <td>Berlin</td>\n",
       "      <td>1999.95</td>\n",
       "      <td>11</td>\n",
       "    </tr>\n",
       "    <tr>\n",
       "      <th>...</th>\n",
       "      <td>...</td>\n",
       "      <td>...</td>\n",
       "      <td>...</td>\n",
       "      <td>...</td>\n",
       "      <td>...</td>\n",
       "      <td>...</td>\n",
       "      <td>...</td>\n",
       "      <td>...</td>\n",
       "      <td>...</td>\n",
       "      <td>...</td>\n",
       "      <td>...</td>\n",
       "    </tr>\n",
       "    <tr>\n",
       "      <th>109</th>\n",
       "      <td>10568</td>\n",
       "      <td>2022-11-30</td>\n",
       "      <td>Beverages</td>\n",
       "      <td>2.95</td>\n",
       "      <td>678.0</td>\n",
       "      <td>Online</td>\n",
       "      <td>Credit Card</td>\n",
       "      <td>Tom Jackson</td>\n",
       "      <td>London</td>\n",
       "      <td>2000.10</td>\n",
       "      <td>11</td>\n",
       "    </tr>\n",
       "    <tr>\n",
       "      <th>110</th>\n",
       "      <td>10569</td>\n",
       "      <td>2022-11-30</td>\n",
       "      <td>Sides &amp; Other</td>\n",
       "      <td>4.99</td>\n",
       "      <td>200.0</td>\n",
       "      <td>Online</td>\n",
       "      <td>Credit Card</td>\n",
       "      <td>Tom Jackson</td>\n",
       "      <td>London</td>\n",
       "      <td>998.00</td>\n",
       "      <td>11</td>\n",
       "    </tr>\n",
       "    <tr>\n",
       "      <th>128</th>\n",
       "      <td>10537</td>\n",
       "      <td>2022-11-24</td>\n",
       "      <td>Fries</td>\n",
       "      <td>3.49</td>\n",
       "      <td>630.0</td>\n",
       "      <td>Drive-thru</td>\n",
       "      <td>Credit Card</td>\n",
       "      <td>Pablo Perez</td>\n",
       "      <td>Madrid</td>\n",
       "      <td>2198.70</td>\n",
       "      <td>11</td>\n",
       "    </tr>\n",
       "    <tr>\n",
       "      <th>129</th>\n",
       "      <td>10538</td>\n",
       "      <td>2022-11-24</td>\n",
       "      <td>Beverages</td>\n",
       "      <td>2.95</td>\n",
       "      <td>746.0</td>\n",
       "      <td>Drive-thru</td>\n",
       "      <td>Credit Card</td>\n",
       "      <td>Pablo Perez</td>\n",
       "      <td>Madrid</td>\n",
       "      <td>2200.70</td>\n",
       "      <td>11</td>\n",
       "    </tr>\n",
       "    <tr>\n",
       "      <th>130</th>\n",
       "      <td>10539</td>\n",
       "      <td>2022-11-24</td>\n",
       "      <td>Sides &amp; Other</td>\n",
       "      <td>4.99</td>\n",
       "      <td>200.0</td>\n",
       "      <td>Drive-thru</td>\n",
       "      <td>Credit Card</td>\n",
       "      <td>Pablo Perez</td>\n",
       "      <td>Madrid</td>\n",
       "      <td>998.00</td>\n",
       "      <td>11</td>\n",
       "    </tr>\n",
       "  </tbody>\n",
       "</table>\n",
       "<p>113 rows × 11 columns</p>\n",
       "</div>"
      ],
      "text/plain": [
       "0    Order ID       Date             Product  Price  Quantity Purchase Type  \\\n",
       "1       10452 2022-11-07               Fries   3.49     573.0       Online    \n",
       "2       10453 2022-11-07           Beverages   2.95     746.0       Online    \n",
       "3       10454 2022-11-07       Sides & Other   4.99     200.0     In-store    \n",
       "4       10455 2022-11-08             Burgers  12.99     570.0     In-store    \n",
       "5       10456 2022-11-08  Chicken Sandwiches   9.95     201.0     In-store    \n",
       "..        ...        ...                 ...    ...       ...           ...   \n",
       "109     10568 2022-11-30           Beverages   2.95     678.0       Online    \n",
       "110     10569 2022-11-30       Sides & Other   4.99     200.0       Online    \n",
       "128     10537 2022-11-24               Fries   3.49     630.0   Drive-thru    \n",
       "129     10538 2022-11-24           Beverages   2.95     746.0   Drive-thru    \n",
       "130     10539 2022-11-24       Sides & Other   4.99     200.0   Drive-thru    \n",
       "\n",
       "0   Payment Method        Manager    City  Receita  date_month  \n",
       "1        Gift Card    Tom Jackson  London  1999.77          11  \n",
       "2        Gift Card    Pablo Perez  Madrid  2200.70          11  \n",
       "3        Gift Card     Joao Silva  Lisbon   998.00          11  \n",
       "4      Credit Card  Walter Muller  Berlin  7404.30          11  \n",
       "5      Credit Card  Walter Muller  Berlin  1999.95          11  \n",
       "..             ...            ...     ...      ...         ...  \n",
       "109    Credit Card    Tom Jackson  London  2000.10          11  \n",
       "110    Credit Card    Tom Jackson  London   998.00          11  \n",
       "128    Credit Card    Pablo Perez  Madrid  2198.70          11  \n",
       "129    Credit Card    Pablo Perez  Madrid  2200.70          11  \n",
       "130    Credit Card    Pablo Perez  Madrid   998.00          11  \n",
       "\n",
       "[113 rows x 11 columns]"
      ]
     },
     "execution_count": 140,
     "metadata": {},
     "output_type": "execute_result"
    }
   ],
   "source": [
    "d11=data[data['date_month']==11]\n",
    "d11"
   ]
  },
  {
   "cell_type": "code",
   "execution_count": 143,
   "id": "66558be9",
   "metadata": {},
   "outputs": [
    {
     "data": {
      "text/plain": [
       "np.float64(2938.1869026548666)"
      ]
     },
     "execution_count": 143,
     "metadata": {},
     "output_type": "execute_result"
    }
   ],
   "source": [
    "d11['Receita'].mean()"
   ]
  },
  {
   "cell_type": "code",
   "execution_count": null,
   "id": "6d95142b",
   "metadata": {},
   "outputs": [],
   "source": [
    "d12= data[data['date_month']==12]"
   ]
  },
  {
   "cell_type": "code",
   "execution_count": 146,
   "id": "2fd88d3b",
   "metadata": {},
   "outputs": [
    {
     "data": {
      "text/plain": [
       "np.float64(3101.3072340425533)"
      ]
     },
     "execution_count": 146,
     "metadata": {},
     "output_type": "execute_result"
    }
   ],
   "source": [
    "d12['Receita'].mean()"
   ]
  },
  {
   "cell_type": "markdown",
   "id": "c6e07cee",
   "metadata": {},
   "source": [
    "## desvio padrao de receita e quantidade"
   ]
  },
  {
   "cell_type": "code",
   "execution_count": 150,
   "id": "33d44c3a",
   "metadata": {},
   "outputs": [
    {
     "data": {
      "text/plain": [
       "np.float64(2419.9325462715055)"
      ]
     },
     "execution_count": 150,
     "metadata": {},
     "output_type": "execute_result"
    }
   ],
   "source": [
    "data['Receita'].std()"
   ]
  },
  {
   "cell_type": "code",
   "execution_count": 149,
   "id": "45356842",
   "metadata": {},
   "outputs": [
    {
     "data": {
      "text/plain": [
       "np.float64(214.9794309636385)"
      ]
     },
     "execution_count": 149,
     "metadata": {},
     "output_type": "execute_result"
    }
   ],
   "source": [
    "data['Quantity'].std()"
   ]
  },
  {
   "cell_type": "code",
   "execution_count": 151,
   "id": "183ecaeb",
   "metadata": {},
   "outputs": [
    {
     "data": {
      "text/plain": [
       "np.float64(5856073.528504091)"
      ]
     },
     "execution_count": 151,
     "metadata": {},
     "output_type": "execute_result"
    }
   ],
   "source": [
    "data['Receita'].var()"
   ]
  },
  {
   "cell_type": "code",
   "execution_count": 152,
   "id": "0b7958a0",
   "metadata": {},
   "outputs": [
    {
     "data": {
      "text/plain": [
       "np.float64(46216.15573744981)"
      ]
     },
     "execution_count": 152,
     "metadata": {},
     "output_type": "execute_result"
    }
   ],
   "source": [
    "data['Quantity'].var()"
   ]
  },
  {
   "cell_type": "markdown",
   "id": "a87e6638",
   "metadata": {},
   "source": [
    "## a receita esta crescendo ou diminuido com o tempo?"
   ]
  },
  {
   "cell_type": "code",
   "execution_count": null,
   "id": "d536eb46",
   "metadata": {},
   "outputs": [],
   "source": [
    "# OLHANDO PELA MEDIA DO MES DE NOVEMBRO E DEZEMBRO: QUE SIM, A RECEITA CRESCEU"
   ]
  },
  {
   "cell_type": "markdown",
   "id": "29bde4a3",
   "metadata": {},
   "source": [
    "## MEDIA DE QUANTIDADE VENDIDA E RECEITA MEDIA PARA CADA PRODUTO"
   ]
  },
  {
   "cell_type": "code",
   "execution_count": 157,
   "id": "ffdb66f7",
   "metadata": {},
   "outputs": [
    {
     "data": {
      "text/html": [
       "<div>\n",
       "<style scoped>\n",
       "    .dataframe tbody tr th:only-of-type {\n",
       "        vertical-align: middle;\n",
       "    }\n",
       "\n",
       "    .dataframe tbody tr th {\n",
       "        vertical-align: top;\n",
       "    }\n",
       "\n",
       "    .dataframe thead th {\n",
       "        text-align: right;\n",
       "    }\n",
       "</style>\n",
       "<table border=\"1\" class=\"dataframe\">\n",
       "  <thead>\n",
       "    <tr style=\"text-align: right;\">\n",
       "      <th></th>\n",
       "      <th>Quantity</th>\n",
       "      <th>Receita</th>\n",
       "    </tr>\n",
       "    <tr>\n",
       "      <th>Product</th>\n",
       "      <th></th>\n",
       "      <th></th>\n",
       "    </tr>\n",
       "  </thead>\n",
       "  <tbody>\n",
       "    <tr>\n",
       "      <th>Beverages</th>\n",
       "      <td>699.760000</td>\n",
       "      <td>2064.292000</td>\n",
       "    </tr>\n",
       "    <tr>\n",
       "      <th>Burgers</th>\n",
       "      <td>558.038462</td>\n",
       "      <td>7248.919615</td>\n",
       "    </tr>\n",
       "    <tr>\n",
       "      <th>Chicken Sandwiches</th>\n",
       "      <td>214.096154</td>\n",
       "      <td>2204.085577</td>\n",
       "    </tr>\n",
       "    <tr>\n",
       "      <th>Fries</th>\n",
       "      <td>627.901961</td>\n",
       "      <td>2463.266078</td>\n",
       "    </tr>\n",
       "    <tr>\n",
       "      <th>Sides &amp; Other</th>\n",
       "      <td>200.000000</td>\n",
       "      <td>998.000000</td>\n",
       "    </tr>\n",
       "  </tbody>\n",
       "</table>\n",
       "</div>"
      ],
      "text/plain": [
       "0                     Quantity      Receita\n",
       "Product                                    \n",
       "Beverages           699.760000  2064.292000\n",
       "Burgers             558.038462  7248.919615\n",
       "Chicken Sandwiches  214.096154  2204.085577\n",
       "Fries               627.901961  2463.266078\n",
       "Sides & Other       200.000000   998.000000"
      ]
     },
     "execution_count": 157,
     "metadata": {},
     "output_type": "execute_result"
    }
   ],
   "source": [
    "data.groupby('Product')[['Quantity','Receita']].agg({'Quantity':'mean','Receita':'mean'})"
   ]
  }
 ],
 "metadata": {
  "kernelspec": {
   "display_name": "venv",
   "language": "python",
   "name": "python3"
  },
  "language_info": {
   "codemirror_mode": {
    "name": "ipython",
    "version": 3
   },
   "file_extension": ".py",
   "mimetype": "text/x-python",
   "name": "python",
   "nbconvert_exporter": "python",
   "pygments_lexer": "ipython3",
   "version": "3.12.7"
  }
 },
 "nbformat": 4,
 "nbformat_minor": 5
}
